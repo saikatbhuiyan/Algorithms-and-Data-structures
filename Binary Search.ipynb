{
 "cells": [
  {
   "cell_type": "markdown",
   "metadata": {},
   "source": [
    "# Binary Search"
   ]
  },
  {
   "cell_type": "code",
   "execution_count": 30,
   "metadata": {
    "collapsed": true
   },
   "outputs": [],
   "source": [
    "def bsearch(sequence,v,l,r):\n",
    "    # search for v in seq [l:r] sequence is sorted\n",
    "    \n",
    "    if (r - l == 0):\n",
    "        return False\n",
    "    \n",
    "    mid = (l+r)//2\n",
    "    \n",
    "    if (v == sequence[mid]):\n",
    "        print(mid)\n",
    "        return True\n",
    "    \n",
    "    elif(v<sequence[mid]):\n",
    "        return bsearch(sequence,v,l,mid)\n",
    "    \n",
    "    else:\n",
    "        return bsearch(sequence,v,mid+1,r)\n",
    "    "
   ]
  },
  {
   "cell_type": "code",
   "execution_count": 31,
   "metadata": {
    "collapsed": true
   },
   "outputs": [],
   "source": [
    "l =[1,2,2,3]"
   ]
  },
  {
   "cell_type": "code",
   "execution_count": 32,
   "metadata": {},
   "outputs": [
    {
     "data": {
      "text/plain": [
       "False"
      ]
     },
     "execution_count": 32,
     "metadata": {},
     "output_type": "execute_result"
    }
   ],
   "source": [
    "bsearch(l,0,0,2)"
   ]
  },
  {
   "cell_type": "code",
   "execution_count": null,
   "metadata": {
    "collapsed": true
   },
   "outputs": [],
   "source": []
  },
  {
   "cell_type": "code",
   "execution_count": 35,
   "metadata": {
    "collapsed": true
   },
   "outputs": [],
   "source": [
    "def binary_search(lists,item):\n",
    "    low = 0\n",
    "    high = len(lists)-1\n",
    "    \n",
    "    while low<=high:\n",
    "        mid = (low+high) #  mid = (low+high)//2\n",
    "        guess = lists[mid]\n",
    "        \n",
    "        if guess == item:\n",
    "            return mid\n",
    "        \n",
    "        if guess>item:\n",
    "            high = mid-1\n",
    "            \n",
    "        else:\n",
    "            low = mid+1\n",
    "    return None    \n",
    "            \n",
    "        \n",
    "        "
   ]
  },
  {
   "cell_type": "code",
   "execution_count": 36,
   "metadata": {},
   "outputs": [
    {
     "name": "stdout",
     "output_type": "stream",
     "text": [
      "2\n",
      "None\n",
      "1\n",
      "3\n",
      "6\n"
     ]
    }
   ],
   "source": [
    "my_list = [1, 3, 5, 7, 9, 11, 23]\n",
    "print(binary_search(my_list,5))\n",
    "print(binary_search(my_list,6))\n",
    "print(binary_search(my_list,3))\n",
    "print(binary_search(my_list,7))\n",
    "print(binary_search(my_list,23))\n",
    "\n",
    "\n"
   ]
  },
  {
   "cell_type": "code",
   "execution_count": 1,
   "metadata": {
    "collapsed": true
   },
   "outputs": [],
   "source": [
    "def binary_search(lists,item):\n",
    "    low = 0\n",
    "    high = len(lists)-1\n",
    "    \n",
    "    while low<=high:\n",
    "        mid = (low+high) #  mid = (low+high)//2\n",
    "        guess = lists[mid]\n",
    "        \n",
    "        if guess == item:\n",
    "            return mid\n",
    "        \n",
    "        if guess>item:\n",
    "            high = mid-1\n",
    "            \n",
    "        else:\n",
    "            low = mid+1\n",
    "    return None    \n",
    "            "
   ]
  },
  {
   "cell_type": "code",
   "execution_count": 2,
   "metadata": {
    "collapsed": true
   },
   "outputs": [],
   "source": [
    "my_list = ['arif', 'mahadi', 'saikat', 'zinna', 'sami', 'awolad','taj']\n",
    "m = sorted(my_list)"
   ]
  },
  {
   "cell_type": "code",
   "execution_count": 6,
   "metadata": {},
   "outputs": [
    {
     "name": "stdout",
     "output_type": "stream",
     "text": [
      "5\n"
     ]
    }
   ],
   "source": [
    "print(binary_search(m,'taj'))\n",
    "\n"
   ]
  },
  {
   "cell_type": "code",
   "execution_count": null,
   "metadata": {
    "collapsed": true
   },
   "outputs": [],
   "source": []
  }
 ],
 "metadata": {
  "kernelspec": {
   "display_name": "Python 3",
   "language": "python",
   "name": "python3"
  },
  "language_info": {
   "codemirror_mode": {
    "name": "ipython",
    "version": 3
   },
   "file_extension": ".py",
   "mimetype": "text/x-python",
   "name": "python",
   "nbconvert_exporter": "python",
   "pygments_lexer": "ipython3",
   "version": "3.6.8"
  }
 },
 "nbformat": 4,
 "nbformat_minor": 2
}
