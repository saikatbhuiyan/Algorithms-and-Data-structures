{
 "cells": [
  {
   "cell_type": "code",
   "execution_count": 65,
   "metadata": {
    "collapsed": true
   },
   "outputs": [],
   "source": [
    "def quick(n):\n",
    "    \n",
    "    if len(n) < 2:\n",
    "        return n\n",
    "    \n",
    "    else:\n",
    "        \n",
    "        pivot = n[0]\n",
    "        \n",
    "        less = [i for i in n[1:] if i<=pivot]\n",
    "        \n",
    "        greater = [i for i in n[1:] if i>pivot]\n",
    "        f = quick(less) + [pivot] + quick(greater)\n",
    "        \n",
    "        return f\n",
    "       "
   ]
  },
  {
   "cell_type": "code",
   "execution_count": 67,
   "metadata": {},
   "outputs": [
    {
     "data": {
      "text/plain": [
       "[1, 2, 4, 5, 6, 7]"
      ]
     },
     "execution_count": 67,
     "metadata": {},
     "output_type": "execute_result"
    }
   ],
   "source": [
    "n = [2,1,4,5,6,7]\n",
    "quick(n)"
   ]
  },
  {
   "cell_type": "code",
   "execution_count": null,
   "metadata": {
    "collapsed": true
   },
   "outputs": [],
   "source": []
  },
  {
   "cell_type": "code",
   "execution_count": 6,
   "metadata": {
    "collapsed": true
   },
   "outputs": [],
   "source": [
    "def quick(n):\n",
    "    \n",
    "    if len(n) < 2:\n",
    "        return n\n",
    "    \n",
    "    else:\n",
    "        m = len(n)//2\n",
    "        pivot = n[m]\n",
    "        \n",
    "        less = [i for i in n[1:] if i<=pivot]\n",
    "        \n",
    "        greater = [i for i in n[1:] if i>pivot]\n",
    "        \n",
    "        return quick(less) + [pivot] + quick(greater)"
   ]
  },
  {
   "cell_type": "code",
   "execution_count": 7,
   "metadata": {},
   "outputs": [
    {
     "data": {
      "text/plain": [
       "[1, 1, 6, 6, 9]"
      ]
     },
     "execution_count": 7,
     "metadata": {},
     "output_type": "execute_result"
    }
   ],
   "source": [
    "n = [4,5,6,1,9]\n",
    "quick(n)"
   ]
  },
  {
   "cell_type": "code",
   "execution_count": 8,
   "metadata": {},
   "outputs": [
    {
     "data": {
      "text/plain": [
       "[4, 5, 6, 1]"
      ]
     },
     "execution_count": 8,
     "metadata": {},
     "output_type": "execute_result"
    }
   ],
   "source": [
    "n = [4,5,6,1]\n",
    "m = len(n)//2\n",
    "n[:]"
   ]
  },
  {
   "cell_type": "code",
   "execution_count": null,
   "metadata": {
    "collapsed": true
   },
   "outputs": [],
   "source": []
  },
  {
   "cell_type": "code",
   "execution_count": 31,
   "metadata": {},
   "outputs": [
    {
     "name": "stdout",
     "output_type": "stream",
     "text": [
      "234\n"
     ]
    }
   ],
   "source": [
    "s = [2,3,4]\n",
    "j = ''.join(map(str, s))\n",
    "print(j)"
   ]
  },
  {
   "cell_type": "code",
   "execution_count": 29,
   "metadata": {},
   "outputs": [
    {
     "name": "stdout",
     "output_type": "stream",
     "text": [
      "12345678910\n"
     ]
    }
   ],
   "source": [
    "my_lst = [1, 2, 3, 4, 5, 6, 7, 8, 9, 10]\n",
    "my_lst_str = ''.join(map(str, my_lst))\n",
    "print(my_lst_str)"
   ]
  },
  {
   "cell_type": "code",
   "execution_count": null,
   "metadata": {
    "collapsed": true
   },
   "outputs": [],
   "source": []
  }
 ],
 "metadata": {
  "kernelspec": {
   "display_name": "Python 3",
   "language": "python",
   "name": "python3"
  },
  "language_info": {
   "codemirror_mode": {
    "name": "ipython",
    "version": 3
   },
   "file_extension": ".py",
   "mimetype": "text/x-python",
   "name": "python",
   "nbconvert_exporter": "python",
   "pygments_lexer": "ipython3",
   "version": "3.6.8"
  }
 },
 "nbformat": 4,
 "nbformat_minor": 2
}
