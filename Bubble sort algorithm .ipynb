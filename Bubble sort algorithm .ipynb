{
 "cells": [
  {
   "cell_type": "code",
   "execution_count": 56,
   "metadata": {
    "collapsed": true
   },
   "outputs": [],
   "source": [
    "def bublle_sort(l):\n",
    "    \n",
    "    for i in range(len(l)-1,0,-1):\n",
    "        print(\"value of i: \", i)\n",
    "        \n",
    "        for j in range(i):\n",
    "            print('INDEX OF J: ', j)\n",
    "            if l[j]>l[j+1]:\n",
    "                temp = l[j]\n",
    "                l[j] = l[j+1]\n",
    "                l[j+1] = temp"
   ]
  },
  {
   "cell_type": "code",
   "execution_count": 57,
   "metadata": {},
   "outputs": [
    {
     "name": "stdout",
     "output_type": "stream",
     "text": [
      "value of i:  8\n",
      "INDEX OF J:  0\n",
      "INDEX OF J:  1\n",
      "INDEX OF J:  2\n",
      "INDEX OF J:  3\n",
      "INDEX OF J:  4\n",
      "INDEX OF J:  5\n",
      "INDEX OF J:  6\n",
      "INDEX OF J:  7\n",
      "value of i:  7\n",
      "INDEX OF J:  0\n",
      "INDEX OF J:  1\n",
      "INDEX OF J:  2\n",
      "INDEX OF J:  3\n",
      "INDEX OF J:  4\n",
      "INDEX OF J:  5\n",
      "INDEX OF J:  6\n",
      "value of i:  6\n",
      "INDEX OF J:  0\n",
      "INDEX OF J:  1\n",
      "INDEX OF J:  2\n",
      "INDEX OF J:  3\n",
      "INDEX OF J:  4\n",
      "INDEX OF J:  5\n",
      "value of i:  5\n",
      "INDEX OF J:  0\n",
      "INDEX OF J:  1\n",
      "INDEX OF J:  2\n",
      "INDEX OF J:  3\n",
      "INDEX OF J:  4\n",
      "value of i:  4\n",
      "INDEX OF J:  0\n",
      "INDEX OF J:  1\n",
      "INDEX OF J:  2\n",
      "INDEX OF J:  3\n",
      "value of i:  3\n",
      "INDEX OF J:  0\n",
      "INDEX OF J:  1\n",
      "INDEX OF J:  2\n",
      "value of i:  2\n",
      "INDEX OF J:  0\n",
      "INDEX OF J:  1\n",
      "value of i:  1\n",
      "INDEX OF J:  0\n"
     ]
    }
   ],
   "source": [
    "l = [1,2,1,3,5,4,7,4,6]\n",
    "bublle_sort(l)"
   ]
  },
  {
   "cell_type": "code",
   "execution_count": 58,
   "metadata": {},
   "outputs": [
    {
     "data": {
      "text/plain": [
       "[1, 1, 2, 3, 4, 4, 5, 6, 7]"
      ]
     },
     "execution_count": 58,
     "metadata": {},
     "output_type": "execute_result"
    }
   ],
   "source": [
    "l"
   ]
  },
  {
   "cell_type": "markdown",
   "metadata": {},
   "source": []
  },
  {
   "cell_type": "code",
   "execution_count": 47,
   "metadata": {
    "collapsed": true
   },
   "outputs": [],
   "source": [
    "def bublle_sort(l):\n",
    "    \n",
    "    for i in range(len(l)-1):\n",
    "        \n",
    "        for j in range(len(l)-i-1):\n",
    "            \n",
    "            if l[j]>l[j+1]:\n",
    "                temp = l[j]\n",
    "                l[j] = l[j+1]\n",
    "                l[j+1] = temp"
   ]
  },
  {
   "cell_type": "code",
   "execution_count": 48,
   "metadata": {
    "collapsed": true
   },
   "outputs": [],
   "source": [
    "l = [1,2,1,3,5,4,7,4,6,]\n",
    "bublle_sort(l)"
   ]
  },
  {
   "cell_type": "code",
   "execution_count": 49,
   "metadata": {},
   "outputs": [
    {
     "data": {
      "text/plain": [
       "[1, 1, 2, 3, 4, 4, 5, 6, 7]"
      ]
     },
     "execution_count": 49,
     "metadata": {},
     "output_type": "execute_result"
    }
   ],
   "source": [
    "l"
   ]
  },
  {
   "cell_type": "markdown",
   "metadata": {},
   "source": [
    "# O(n)"
   ]
  },
  {
   "cell_type": "code",
   "execution_count": 51,
   "metadata": {
    "collapsed": true
   },
   "outputs": [],
   "source": [
    "def bublle_sort(l):\n",
    "    \n",
    "    for i in range(len(l)-1):\n",
    "        flag = 0\n",
    "        for j in range(len(l)-1):\n",
    "            \n",
    "            if l[j]>l[j+1]:\n",
    "                temp = l[j]\n",
    "                l[j] = l[j+1]\n",
    "                l[j+1] = temp\n",
    "                \n",
    "                flag = 1\n",
    "        if flag == 0:break"
   ]
  },
  {
   "cell_type": "code",
   "execution_count": null,
   "metadata": {
    "collapsed": true
   },
   "outputs": [],
   "source": []
  },
  {
   "cell_type": "code",
   "execution_count": 54,
   "metadata": {
    "collapsed": true
   },
   "outputs": [],
   "source": [
    "l = [1,2,1,3,5,4,7,4,6,90,9,89,3,2,44,5,5,45,4532]\n",
    "bublle_sort(l)"
   ]
  },
  {
   "cell_type": "code",
   "execution_count": 55,
   "metadata": {},
   "outputs": [
    {
     "data": {
      "text/plain": [
       "[1, 1, 2, 2, 3, 3, 4, 4, 5, 5, 5, 6, 7, 9, 44, 45, 89, 90, 4532]"
      ]
     },
     "execution_count": 55,
     "metadata": {},
     "output_type": "execute_result"
    }
   ],
   "source": [
    "l"
   ]
  },
  {
   "cell_type": "code",
   "execution_count": null,
   "metadata": {
    "collapsed": true
   },
   "outputs": [],
   "source": []
  }
 ],
 "metadata": {
  "kernelspec": {
   "display_name": "Python 3",
   "language": "python",
   "name": "python3"
  },
  "language_info": {
   "codemirror_mode": {
    "name": "ipython",
    "version": 3
   },
   "file_extension": ".py",
   "mimetype": "text/x-python",
   "name": "python",
   "nbconvert_exporter": "python",
   "pygments_lexer": "ipython3",
   "version": "3.6.8"
  }
 },
 "nbformat": 4,
 "nbformat_minor": 2
}
