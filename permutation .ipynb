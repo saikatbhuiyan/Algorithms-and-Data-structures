{
 "cells": [
  {
   "cell_type": "markdown",
   "metadata": {},
   "source": [
    "# string permutation"
   ]
  },
  {
   "cell_type": "code",
   "execution_count": 42,
   "metadata": {},
   "outputs": [],
   "source": [
    "from itertools import permutations\n",
    "p = [''.join(s) for s in permutations('sam')]"
   ]
  },
  {
   "cell_type": "code",
   "execution_count": 44,
   "metadata": {},
   "outputs": [
    {
     "name": "stdout",
     "output_type": "stream",
     "text": [
      "['sam', 'sma', 'asm', 'ams', 'msa', 'mas']\n",
      "{'msa', 'sma', 'sam', 'ams', 'asm', 'mas'}\n",
      "Number of permutations:  6\n",
      "sam\n",
      "sma\n",
      "asm\n",
      "ams\n",
      "msa\n",
      "mas\n"
     ]
    }
   ],
   "source": [
    "print(p)\n",
    "print(set(p))\n",
    "print('Number of permutations: ' , len(p))\n",
    "\n",
    "for s in p:\n",
    "    print(s)\n",
    "\n"
   ]
  },
  {
   "cell_type": "code",
   "execution_count": 33,
   "metadata": {},
   "outputs": [],
   "source": [
    "s = 'sami'\n",
    "n = [1,2,3,4]\n",
    "\n",
    "p = list(permutations(n))\n",
    "n = set(permutations(s))"
   ]
  },
  {
   "cell_type": "code",
   "execution_count": 35,
   "metadata": {},
   "outputs": [
    {
     "name": "stdout",
     "output_type": "stream",
     "text": [
      "{('i', 'm', 'a', 's'), ('i', 's', 'm', 'a'), ('s', 'a', 'm', 'i'), ('m', 'i', 'a', 's'), ('i', 'a', 'm', 's'), ('a', 's', 'm', 'i'), ('a', 'm', 's', 'i'), ('m', 's', 'i', 'a'), ('s', 'a', 'i', 'm'), ('s', 'm', 'a', 'i'), ('i', 'a', 's', 'm'), ('m', 'a', 's', 'i'), ('a', 'i', 'm', 's'), ('a', 'm', 'i', 's'), ('m', 'a', 'i', 's'), ('i', 'm', 's', 'a'), ('s', 'i', 'a', 'm'), ('m', 's', 'a', 'i'), ('s', 'i', 'm', 'a'), ('s', 'm', 'i', 'a'), ('i', 's', 'a', 'm'), ('a', 's', 'i', 'm'), ('a', 'i', 's', 'm'), ('m', 'i', 's', 'a')}\n",
      "Number of permutations:  24\n",
      " \n",
      "[(1, 2, 3, 4), (1, 2, 4, 3), (1, 3, 2, 4), (1, 3, 4, 2), (1, 4, 2, 3), (1, 4, 3, 2), (2, 1, 3, 4), (2, 1, 4, 3), (2, 3, 1, 4), (2, 3, 4, 1), (2, 4, 1, 3), (2, 4, 3, 1), (3, 1, 2, 4), (3, 1, 4, 2), (3, 2, 1, 4), (3, 2, 4, 1), (3, 4, 1, 2), (3, 4, 2, 1), (4, 1, 2, 3), (4, 1, 3, 2), (4, 2, 1, 3), (4, 2, 3, 1), (4, 3, 1, 2), (4, 3, 2, 1)]\n",
      "Number of permutations:  24\n"
     ]
    }
   ],
   "source": [
    "\n",
    "print(n)\n",
    "print('Number of permutations: ' , len(n))\n",
    "print(' ')\n",
    "print(p)\n",
    "print('Number of permutations: ' , len(p))\n"
   ]
  },
  {
   "cell_type": "code",
   "execution_count": null,
   "metadata": {
    "collapsed": true
   },
   "outputs": [],
   "source": []
  }
 ],
 "metadata": {
  "kernelspec": {
   "display_name": "Python 3",
   "language": "python",
   "name": "python3"
  },
  "language_info": {
   "codemirror_mode": {
    "name": "ipython",
    "version": 3
   },
   "file_extension": ".py",
   "mimetype": "text/x-python",
   "name": "python",
   "nbconvert_exporter": "python",
   "pygments_lexer": "ipython3",
   "version": "3.6.1"
  }
 },
 "nbformat": 4,
 "nbformat_minor": 2
}
