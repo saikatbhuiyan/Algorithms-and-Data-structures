{
 "cells": [
  {
   "cell_type": "markdown",
   "metadata": {},
   "source": [
    "# O(n**2)"
   ]
  },
  {
   "cell_type": "code",
   "execution_count": 1,
   "metadata": {
    "collapsed": true
   },
   "outputs": [],
   "source": [
    "def longestConsecutive(nums):\n",
    "    memoList = [1 for i in nums]\n",
    "    \n",
    "    for i in range(len(nums)):\n",
    "        for j in range(i+1, len(nums)):\n",
    "            \n",
    "            if nums[i]<nums[j] and memoList[i] + 1 >memoList[j]:\n",
    "                memoList[j] = memoList[i] +1\n",
    "    print(max(memoList))\n",
    "\n",
    "     "
   ]
  },
  {
   "cell_type": "code",
   "execution_count": 2,
   "metadata": {},
   "outputs": [
    {
     "name": "stdout",
     "output_type": "stream",
     "text": [
      "2\n"
     ]
    }
   ],
   "source": [
    "longestConsecutive([100, 4, 200, 1, 3, 2])"
   ]
  },
  {
   "cell_type": "code",
   "execution_count": null,
   "metadata": {
    "collapsed": true
   },
   "outputs": [],
   "source": []
  },
  {
   "cell_type": "code",
   "execution_count": 29,
   "metadata": {},
   "outputs": [],
   "source": [
    "\n",
    "def longestConsecutive(nums):\n",
    "    s = set()\n",
    "    a = 0\n",
    "    \n",
    "    for e in nums:\n",
    "        s.add(e)\n",
    "    \n",
    "    for i in range(len(nums)):\n",
    "        \n",
    "        if (nums[i] - 1) not in s:\n",
    "            \n",
    "            j = nums[i]\n",
    "            while(j in s):\n",
    "                j += 1\n",
    "            a = max (a, j - nums[i])\n",
    "    \n",
    "    return a"
   ]
  },
  {
   "cell_type": "code",
   "execution_count": 30,
   "metadata": {},
   "outputs": [
    {
     "data": {
      "text/plain": [
       "4"
      ]
     },
     "execution_count": 30,
     "metadata": {},
     "output_type": "execute_result"
    }
   ],
   "source": [
    "longestConsecutive([1, 9, 3, 10, 4, 20, 2])"
   ]
  },
  {
   "cell_type": "code",
   "execution_count": null,
   "metadata": {
    "collapsed": true
   },
   "outputs": [],
   "source": []
  },
  {
   "cell_type": "code",
   "execution_count": 27,
   "metadata": {},
   "outputs": [],
   "source": [
    "\n",
    "def findLongestConseqSubseq(arr): \n",
    "  \n",
    "    s = set() \n",
    "    ans=0\n",
    "  \n",
    "    # Hash all the array elements \n",
    "    for ele in arr: \n",
    "        s.add(ele) \n",
    "  \n",
    "    # check each possible sequence from the start \n",
    "    # then update optimal length \n",
    "    for i in range(len(arr)): \n",
    "  \n",
    "         # if current element is the starting \n",
    "        # element of a sequence \n",
    "        if (arr[i]-1) not in s: \n",
    "  \n",
    "            # Then check for next elements in the \n",
    "            # sequence \n",
    "            j=arr[i] \n",
    "            while(j in s): \n",
    "                j+=1\n",
    "  \n",
    "            # update  optimal length if this length \n",
    "            # is more \n",
    "            ans=max(ans, j-arr[i]) \n",
    "    return ans "
   ]
  },
  {
   "cell_type": "code",
   "execution_count": 28,
   "metadata": {},
   "outputs": [
    {
     "data": {
      "text/plain": [
       "4"
      ]
     },
     "execution_count": 28,
     "metadata": {},
     "output_type": "execute_result"
    }
   ],
   "source": [
    "findLongestConseqSubseq([1, 9, 3, 10, 4, 20, 2])"
   ]
  },
  {
   "cell_type": "code",
   "execution_count": null,
   "metadata": {
    "collapsed": true
   },
   "outputs": [],
   "source": []
  }
 ],
 "metadata": {
  "kernelspec": {
   "display_name": "Python 3",
   "language": "python",
   "name": "python3"
  },
  "language_info": {
   "codemirror_mode": {
    "name": "ipython",
    "version": 3
   },
   "file_extension": ".py",
   "mimetype": "text/x-python",
   "name": "python",
   "nbconvert_exporter": "python",
   "pygments_lexer": "ipython3",
   "version": "3.6.8"
  }
 },
 "nbformat": 4,
 "nbformat_minor": 2
}
